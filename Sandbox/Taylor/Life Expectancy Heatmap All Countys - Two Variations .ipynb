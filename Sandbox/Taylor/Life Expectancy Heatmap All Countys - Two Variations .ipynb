{
 "cells": [
  {
   "cell_type": "markdown",
   "id": "ed8c5a5e",
   "metadata": {},
   "source": [
    "Import Dependancies"
   ]
  },
  {
   "cell_type": "code",
   "execution_count": 9,
   "id": "9ca5fdab",
   "metadata": {},
   "outputs": [],
   "source": [
    "# Dependencies\n",
    "from config import (gkey)\n",
    "import gmaps\n",
    "import numpy as np\n",
    "import pandas as pd\n",
    "import requests\n",
    "import time\n",
    "from scipy.stats import linregress\n",
    "from matplotlib import pyplot as plt\n",
    "from ipywidgets.embed import embed_minimal_html\n",
    "\n",
    "# Incorporated citipy to determine city based on latitude and longitude\n",
    "from citipy import citipy\n",
    "\n",
    "#import cleaned county data and county geo data\n",
    "county_data = pd.read_csv(\"Tay_Resources/state_county_w_loc.csv\")\n",
    "county_geo_data = pd.read_csv(\"Tay_Resources/uscounties_all.csv\")\n",
    "\n",
    "#add in column for Average Life Expectancy\n",
    "county_data[\"Life Exp Avg\"]=((county_data[\"Difference in male life expectancy, 1985-2010 (years)\"]+\n",
    "                              county_data[\"Difference in female life expectancy, 1985-2010 (years)\"])/2)\n",
    "\n",
    "#merge dataframes together\n",
    "complete_county_data = pd.merge(county_geo_data, county_data, on='Location')"
   ]
  },
  {
   "cell_type": "code",
   "execution_count": 13,
   "id": "a4a2ee92",
   "metadata": {},
   "outputs": [],
   "source": [
    "#store all counties with negative life expectancy growth\n",
    "negative_counties = complete_county_data.loc[(complete_county_data[\"Life Exp Avg\"] < 0),:]\n",
    "\n",
    "# turns all negative 'avg life ex' values to zero\n",
    "complete_county_data.loc[(complete_county_data[\"Life Exp Avg\"] < 0), \"Life Exp Avg\"] = 0"
   ]
  },
  {
   "cell_type": "code",
   "execution_count": 16,
   "id": "32ba6ed7",
   "metadata": {},
   "outputs": [
    {
     "data": {
      "text/plain": [
       "mean       2.718570\n",
       "median     2.700000\n",
       "var        1.841566\n",
       "std        1.357043\n",
       "min        0.000000\n",
       "max       10.700000\n",
       "Name: Life Exp Avg, dtype: float64"
      ]
     },
     "execution_count": 16,
     "metadata": {},
     "output_type": "execute_result"
    }
   ],
   "source": [
    "#view stats on average expectancy\n",
    "complete_county_data['Life Exp Avg'].aggregate(['mean','median','var','std','min','max'])"
   ]
  },
  {
   "cell_type": "code",
   "execution_count": 31,
   "id": "0c9b87bd",
   "metadata": {},
   "outputs": [],
   "source": [
    "# create two dataframes above mean and below mean\n",
    "above_county_data = complete_county_data.loc[(complete_county_data[\"Life Exp Avg\"] >= 2.7),:]\n",
    "below_county_data = complete_county_data.loc[(complete_county_data[\"Life Exp Avg\"] <= 2.7),:]"
   ]
  },
  {
   "cell_type": "code",
   "execution_count": 32,
   "id": "86df4a9a",
   "metadata": {},
   "outputs": [],
   "source": [
    "# Configure gmaps with API key\n",
    "gmaps.configure(api_key=gkey)"
   ]
  },
  {
   "cell_type": "markdown",
   "id": "92afa123",
   "metadata": {},
   "source": [
    "## Average Growth in Life Expectancy"
   ]
  },
  {
   "cell_type": "code",
   "execution_count": 44,
   "id": "992d599d",
   "metadata": {},
   "outputs": [
    {
     "data": {
      "application/vnd.jupyter.widget-view+json": {
       "model_id": "8d67441cc8d04b96bc40a8d8a8548a44",
       "version_major": 2,
       "version_minor": 0
      },
      "text/plain": [
       "Figure(layout=FigureLayout(height='420px'))"
      ]
     },
     "metadata": {},
     "output_type": "display_data"
    }
   ],
   "source": [
    "# Store 'Lat' and 'Lng' into  locations \n",
    "locations_a = above_county_data[[\"lat\", \"lng\"]]\n",
    "locations_b = below_county_data[[\"lat\", \"lng\"]]\n",
    "\n",
    "fig1 = gmaps.figure()\n",
    "\n",
    "#add below average layer \n",
    "below_avg = gmaps.heatmap_layer(locations_b, dissipating=False, weights=below_county_data['Life Exp Avg'],\n",
    "                                max_intensity=2.7,point_radius = .75, gradient = ['gray','blue'])\n",
    "\n",
    "fig1.add_layer(below_avg)\n",
    "\n",
    "#add above average layer \n",
    "above_avg = gmaps.heatmap_layer(locations_a, dissipating=False, weights=above_county_data['Life Exp Avg'],\n",
    "                                max_intensity=10, point_radius = .5)\n",
    "\n",
    "fig1.add_layer(above_avg)\n",
    "\n",
    "embed_minimal_html('export.html', views=[fig1])\n",
    "\n",
    "fig1"
   ]
  },
  {
   "cell_type": "code",
   "execution_count": null,
   "id": "bf351fce",
   "metadata": {},
   "outputs": [],
   "source": []
  }
 ],
 "metadata": {
  "kernelspec": {
   "display_name": "PythonData",
   "language": "python",
   "name": "pythondata"
  },
  "language_info": {
   "codemirror_mode": {
    "name": "ipython",
    "version": 3
   },
   "file_extension": ".py",
   "mimetype": "text/x-python",
   "name": "python",
   "nbconvert_exporter": "python",
   "pygments_lexer": "ipython3",
   "version": "3.8.8"
  }
 },
 "nbformat": 4,
 "nbformat_minor": 5
}
