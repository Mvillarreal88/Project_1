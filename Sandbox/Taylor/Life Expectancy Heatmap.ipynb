{
 "cells": [
  {
   "cell_type": "markdown",
   "id": "ed8c5a5e",
   "metadata": {},
   "source": [
    "Import Dependancies"
   ]
  },
  {
   "cell_type": "code",
   "execution_count": 1,
   "id": "9ca5fdab",
   "metadata": {},
   "outputs": [
    {
     "data": {
      "text/html": [
       "<div>\n",
       "<style scoped>\n",
       "    .dataframe tbody tr th:only-of-type {\n",
       "        vertical-align: middle;\n",
       "    }\n",
       "\n",
       "    .dataframe tbody tr th {\n",
       "        vertical-align: top;\n",
       "    }\n",
       "\n",
       "    .dataframe thead th {\n",
       "        text-align: right;\n",
       "    }\n",
       "</style>\n",
       "<table border=\"1\" class=\"dataframe\">\n",
       "  <thead>\n",
       "    <tr style=\"text-align: right;\">\n",
       "      <th></th>\n",
       "      <th>Unnamed: 0</th>\n",
       "      <th>State</th>\n",
       "      <th>County</th>\n",
       "      <th>Male life expectancy, 1985 (years)</th>\n",
       "      <th>Female life expectancy, 1985 (years)</th>\n",
       "      <th>Male life expectancy, 1990 (years)</th>\n",
       "      <th>Female life expectancy, 1990 (years)</th>\n",
       "      <th>Male life expectancy, 1995 (years)</th>\n",
       "      <th>Female life expectancy, 1995 (years)</th>\n",
       "      <th>Male life expectancy, 2000 (years)</th>\n",
       "      <th>Female life expectancy, 2000 (years)</th>\n",
       "      <th>Male life expectancy, 2005 (years)</th>\n",
       "      <th>Female life expectancy, 2005 (years)</th>\n",
       "      <th>Male life expectancy, 2010 (years)</th>\n",
       "      <th>Female life expectancy, 2010 (years)</th>\n",
       "      <th>Difference in male life expectancy, 1985-2010 (years)</th>\n",
       "      <th>Difference in female life expectancy, 1985-2010 (years)</th>\n",
       "    </tr>\n",
       "  </thead>\n",
       "  <tbody>\n",
       "    <tr>\n",
       "      <th>0</th>\n",
       "      <td>1</td>\n",
       "      <td>Alabama</td>\n",
       "      <td>NaN</td>\n",
       "      <td>69.1</td>\n",
       "      <td>76.9</td>\n",
       "      <td>69.4</td>\n",
       "      <td>77.1</td>\n",
       "      <td>69.9</td>\n",
       "      <td>77.2</td>\n",
       "      <td>71.0</td>\n",
       "      <td>77.2</td>\n",
       "      <td>71.5</td>\n",
       "      <td>77.3</td>\n",
       "      <td>72.4</td>\n",
       "      <td>77.8</td>\n",
       "      <td>3.3</td>\n",
       "      <td>0.9</td>\n",
       "    </tr>\n",
       "    <tr>\n",
       "      <th>1</th>\n",
       "      <td>2</td>\n",
       "      <td>Alabama</td>\n",
       "      <td>Autauga</td>\n",
       "      <td>68.1</td>\n",
       "      <td>77.0</td>\n",
       "      <td>68.5</td>\n",
       "      <td>77.0</td>\n",
       "      <td>69.3</td>\n",
       "      <td>77.3</td>\n",
       "      <td>71.7</td>\n",
       "      <td>77.6</td>\n",
       "      <td>72.5</td>\n",
       "      <td>77.4</td>\n",
       "      <td>73.3</td>\n",
       "      <td>78.8</td>\n",
       "      <td>5.2</td>\n",
       "      <td>1.8</td>\n",
       "    </tr>\n",
       "    <tr>\n",
       "      <th>2</th>\n",
       "      <td>3</td>\n",
       "      <td>Alabama</td>\n",
       "      <td>Baldwin</td>\n",
       "      <td>71.1</td>\n",
       "      <td>78.8</td>\n",
       "      <td>71.9</td>\n",
       "      <td>79.2</td>\n",
       "      <td>72.4</td>\n",
       "      <td>79.3</td>\n",
       "      <td>73.9</td>\n",
       "      <td>79.2</td>\n",
       "      <td>73.8</td>\n",
       "      <td>79.7</td>\n",
       "      <td>75.0</td>\n",
       "      <td>80.3</td>\n",
       "      <td>3.8</td>\n",
       "      <td>1.5</td>\n",
       "    </tr>\n",
       "    <tr>\n",
       "      <th>3</th>\n",
       "      <td>4</td>\n",
       "      <td>Alabama</td>\n",
       "      <td>Barbour</td>\n",
       "      <td>66.8</td>\n",
       "      <td>76.0</td>\n",
       "      <td>66.7</td>\n",
       "      <td>76.7</td>\n",
       "      <td>68.4</td>\n",
       "      <td>76.9</td>\n",
       "      <td>70.0</td>\n",
       "      <td>76.2</td>\n",
       "      <td>70.5</td>\n",
       "      <td>77.0</td>\n",
       "      <td>72.2</td>\n",
       "      <td>77.2</td>\n",
       "      <td>5.3</td>\n",
       "      <td>1.1</td>\n",
       "    </tr>\n",
       "    <tr>\n",
       "      <th>4</th>\n",
       "      <td>5</td>\n",
       "      <td>Alabama</td>\n",
       "      <td>Bibb</td>\n",
       "      <td>67.3</td>\n",
       "      <td>76.6</td>\n",
       "      <td>68.4</td>\n",
       "      <td>76.2</td>\n",
       "      <td>69.0</td>\n",
       "      <td>75.9</td>\n",
       "      <td>70.3</td>\n",
       "      <td>76.5</td>\n",
       "      <td>70.5</td>\n",
       "      <td>76.8</td>\n",
       "      <td>71.5</td>\n",
       "      <td>76.8</td>\n",
       "      <td>4.2</td>\n",
       "      <td>0.2</td>\n",
       "    </tr>\n",
       "  </tbody>\n",
       "</table>\n",
       "</div>"
      ],
      "text/plain": [
       "   Unnamed: 0    State   County  Male life expectancy, 1985 (years)  \\\n",
       "0           1  Alabama      NaN                                69.1   \n",
       "1           2  Alabama  Autauga                                68.1   \n",
       "2           3  Alabama  Baldwin                                71.1   \n",
       "3           4  Alabama  Barbour                                66.8   \n",
       "4           5  Alabama     Bibb                                67.3   \n",
       "\n",
       "   Female life expectancy, 1985 (years)  Male life expectancy, 1990 (years)  \\\n",
       "0                                  76.9                                69.4   \n",
       "1                                  77.0                                68.5   \n",
       "2                                  78.8                                71.9   \n",
       "3                                  76.0                                66.7   \n",
       "4                                  76.6                                68.4   \n",
       "\n",
       "   Female life expectancy, 1990 (years)  Male life expectancy, 1995 (years)  \\\n",
       "0                                  77.1                                69.9   \n",
       "1                                  77.0                                69.3   \n",
       "2                                  79.2                                72.4   \n",
       "3                                  76.7                                68.4   \n",
       "4                                  76.2                                69.0   \n",
       "\n",
       "   Female life expectancy, 1995 (years)  Male life expectancy, 2000 (years)  \\\n",
       "0                                  77.2                                71.0   \n",
       "1                                  77.3                                71.7   \n",
       "2                                  79.3                                73.9   \n",
       "3                                  76.9                                70.0   \n",
       "4                                  75.9                                70.3   \n",
       "\n",
       "   Female life expectancy, 2000 (years)  Male life expectancy, 2005 (years)  \\\n",
       "0                                  77.2                                71.5   \n",
       "1                                  77.6                                72.5   \n",
       "2                                  79.2                                73.8   \n",
       "3                                  76.2                                70.5   \n",
       "4                                  76.5                                70.5   \n",
       "\n",
       "   Female life expectancy, 2005 (years)  Male life expectancy, 2010 (years)  \\\n",
       "0                                  77.3                                72.4   \n",
       "1                                  77.4                                73.3   \n",
       "2                                  79.7                                75.0   \n",
       "3                                  77.0                                72.2   \n",
       "4                                  76.8                                71.5   \n",
       "\n",
       "   Female life expectancy, 2010 (years)  \\\n",
       "0                                  77.8   \n",
       "1                                  78.8   \n",
       "2                                  80.3   \n",
       "3                                  77.2   \n",
       "4                                  76.8   \n",
       "\n",
       "   Difference in male life expectancy, 1985-2010 (years)  \\\n",
       "0                                                3.3       \n",
       "1                                                5.2       \n",
       "2                                                3.8       \n",
       "3                                                5.3       \n",
       "4                                                4.2       \n",
       "\n",
       "   Difference in female life expectancy, 1985-2010 (years)  \n",
       "0                                                0.9        \n",
       "1                                                1.8        \n",
       "2                                                1.5        \n",
       "3                                                1.1        \n",
       "4                                                0.2        "
      ]
     },
     "execution_count": 1,
     "metadata": {},
     "output_type": "execute_result"
    }
   ],
   "source": [
    "# Dependencies\n",
    "from config import (gkey)\n",
    "import gmaps\n",
    "import numpy as np\n",
    "import pandas as pd\n",
    "import requests\n",
    "import time\n",
    "from scipy.stats import linregress\n",
    "from matplotlib import pyplot as plt\n",
    "\n",
    "# Incorporated citipy to determine city based on latitude and longitude\n",
    "from citipy import citipy\n",
    "\n",
    "#import cleaned county data\n",
    "county_data = pd.read_csv(\"../Matthew/Data_csv/state_county.csv\")\n",
    "#county_data.head()"
   ]
  },
  {
   "cell_type": "code",
   "execution_count": 2,
   "id": "86df4a9a",
   "metadata": {},
   "outputs": [],
   "source": [
    "# Configure gmaps with API key\n",
    "gmaps.configure(api_key=gkey)"
   ]
  },
  {
   "cell_type": "markdown",
   "id": "ac11a474",
   "metadata": {},
   "source": [
    "# Generate Random Cities in the USA"
   ]
  },
  {
   "cell_type": "code",
   "execution_count": 10,
   "id": "ce0ea613",
   "metadata": {},
   "outputs": [],
   "source": [
    "# Range of latitudes and longitudes\n",
    "lat_range = (25, 50)\n",
    "lng_range = (-125,-65)\n",
    "\n",
    "# List for holding lat_lngs and cities\n",
    "lat_lngs = []\n",
    "random_cities = []\n",
    "\n",
    "# Create a set of random lat and lng combinations\n",
    "lats = np.random.uniform(lat_range[0], lat_range[1], size=1500)\n",
    "lngs = np.random.uniform(lng_range[0], lng_range[1], size=1500)\n",
    "lat_lngs = zip(lats, lngs)\n",
    "\n",
    "# Identify nearest city for each lat, lng combination\n",
    "for lat_lng in lat_lngs:\n",
    "    city = citipy.nearest_city(lat_lng[0], lat_lng[1]).city_name\n",
    "    \n",
    "    # If the city is unique, then add it to a our cities list\n",
    "    if city not in random_cities:\n",
    "        random_cities.append(city)\n",
    "\n",
    "# Print the city count to confirm sufficient count\n",
    "#random_cities"
   ]
  },
  {
   "cell_type": "markdown",
   "id": "e96e0da7",
   "metadata": {},
   "source": [
    "# Gather Geo and County Data"
   ]
  },
  {
   "cell_type": "code",
   "execution_count": 20,
   "id": "f216a113",
   "metadata": {},
   "outputs": [
    {
     "data": {
      "text/plain": [
       "'Bexar'"
      ]
     },
     "execution_count": 20,
     "metadata": {},
     "output_type": "execute_result"
    }
   ],
   "source": [
    "lat = []\n",
    "lon = []\n",
    "county = []\n",
    "\n",
    "# Build the endpoint URL\n",
    "target_url = f\"https://maps.googleapis.com/maps/api/geocode/json?address={target_city}&key={gkey}\"\n",
    "test_url = f\"https://maps.googleapis.com/maps/api/geocode/json?address=SanAntonio&key={gkey}\"\n",
    "\n",
    "test_data = requests.get(test_url).json()\n",
    "test_data['results'][0]['address_components'][1]['long_name'].split()[0]"
   ]
  },
  {
   "cell_type": "code",
   "execution_count": 21,
   "id": "5754a384",
   "metadata": {},
   "outputs": [
    {
     "ename": "IndexError",
     "evalue": "list index out of range",
     "output_type": "error",
     "traceback": [
      "\u001b[1;31m---------------------------------------------------------------------------\u001b[0m",
      "\u001b[1;31mIndexError\u001b[0m                                Traceback (most recent call last)",
      "\u001b[1;32m<ipython-input-21-49a09ce8b47d>\u001b[0m in \u001b[0;36m<module>\u001b[1;34m\u001b[0m\n\u001b[0;32m     20\u001b[0m \u001b[1;33m\u001b[0m\u001b[0m\n\u001b[0;32m     21\u001b[0m         \u001b[0mcities\u001b[0m\u001b[1;33m.\u001b[0m\u001b[0mappend\u001b[0m\u001b[1;33m(\u001b[0m\u001b[0mcity\u001b[0m\u001b[1;33m)\u001b[0m\u001b[1;33m,\u001b[0m\u001b[1;33m\u001b[0m\u001b[1;33m\u001b[0m\u001b[0m\n\u001b[1;32m---> 22\u001b[1;33m         \u001b[0mcounty\u001b[0m\u001b[1;33m.\u001b[0m\u001b[0mappend\u001b[0m\u001b[1;33m(\u001b[0m\u001b[0mgeo_data\u001b[0m\u001b[1;33m[\u001b[0m\u001b[1;34m'results'\u001b[0m\u001b[1;33m]\u001b[0m\u001b[1;33m[\u001b[0m\u001b[1;36m0\u001b[0m\u001b[1;33m]\u001b[0m\u001b[1;33m[\u001b[0m\u001b[1;34m'address_components'\u001b[0m\u001b[1;33m]\u001b[0m\u001b[1;33m[\u001b[0m\u001b[1;36m1\u001b[0m\u001b[1;33m]\u001b[0m\u001b[1;33m[\u001b[0m\u001b[1;34m'long_name'\u001b[0m\u001b[1;33m]\u001b[0m\u001b[1;33m.\u001b[0m\u001b[0msplit\u001b[0m\u001b[1;33m(\u001b[0m\u001b[1;33m)\u001b[0m\u001b[1;33m[\u001b[0m\u001b[1;36m0\u001b[0m\u001b[1;33m]\u001b[0m\u001b[1;33m)\u001b[0m\u001b[1;33m\u001b[0m\u001b[1;33m\u001b[0m\u001b[0m\n\u001b[0m\u001b[0;32m     23\u001b[0m         \u001b[0mlat\u001b[0m\u001b[1;33m.\u001b[0m\u001b[0mappend\u001b[0m\u001b[1;33m(\u001b[0m\u001b[0mgeo_data\u001b[0m\u001b[1;33m[\u001b[0m\u001b[1;34m\"results\"\u001b[0m\u001b[1;33m]\u001b[0m\u001b[1;33m[\u001b[0m\u001b[1;36m0\u001b[0m\u001b[1;33m]\u001b[0m\u001b[1;33m[\u001b[0m\u001b[1;34m\"geometry\"\u001b[0m\u001b[1;33m]\u001b[0m\u001b[1;33m[\u001b[0m\u001b[1;34m\"location\"\u001b[0m\u001b[1;33m]\u001b[0m\u001b[1;33m[\u001b[0m\u001b[1;34m\"lat\"\u001b[0m\u001b[1;33m]\u001b[0m\u001b[1;33m)\u001b[0m\u001b[1;33m\u001b[0m\u001b[1;33m\u001b[0m\u001b[0m\n\u001b[0;32m     24\u001b[0m         \u001b[0mlon\u001b[0m\u001b[1;33m.\u001b[0m\u001b[0mappend\u001b[0m\u001b[1;33m(\u001b[0m\u001b[0mgeo_data\u001b[0m\u001b[1;33m[\u001b[0m\u001b[1;34m\"results\"\u001b[0m\u001b[1;33m]\u001b[0m\u001b[1;33m[\u001b[0m\u001b[1;36m0\u001b[0m\u001b[1;33m]\u001b[0m\u001b[1;33m[\u001b[0m\u001b[1;34m\"geometry\"\u001b[0m\u001b[1;33m]\u001b[0m\u001b[1;33m[\u001b[0m\u001b[1;34m\"location\"\u001b[0m\u001b[1;33m]\u001b[0m\u001b[1;33m[\u001b[0m\u001b[1;34m\"lng\"\u001b[0m\u001b[1;33m]\u001b[0m\u001b[1;33m)\u001b[0m\u001b[1;33m\u001b[0m\u001b[1;33m\u001b[0m\u001b[0m\n",
      "\u001b[1;31mIndexError\u001b[0m: list index out of range"
     ]
    }
   ],
   "source": [
    "# Run a request to endpoint and convert result to json\n",
    "#geo_data = requests.get(target_url).json()\n",
    "\n",
    "cities = []\n",
    "county = []\n",
    "lat = []\n",
    "lon = []\n",
    "\n",
    "#verify_us = geo_data['results'][0]['address_components'][3]['short_name']\n",
    "\n",
    "# Print the json\n",
    "#grab county from the json\n",
    "for city in random_cities[:100]:\n",
    "    # create query url and get json\n",
    "    query_url = f\"https://maps.googleapis.com/maps/api/geocode/json?address={city}&key={gkey}\"\n",
    "    geo_data = requests.get(query_url).json()\n",
    "        \n",
    "    #if the city has data then populate lists\n",
    "    if (geo_data['status'] == 'OK'):\n",
    "    \n",
    "        cities.append(city),\n",
    "        county.append(geo_data['results'][0]['address_components'][1]['long_name'].split()[0])\n",
    "        lat.append(geo_data[\"results\"][0][\"geometry\"][\"location\"][\"lat\"])\n",
    "        lon.append(geo_data[\"results\"][0][\"geometry\"][\"location\"][\"lng\"])\n",
    "        "
   ]
  },
  {
   "cell_type": "code",
   "execution_count": null,
   "id": "baba2958",
   "metadata": {},
   "outputs": [],
   "source": [
    "lat"
   ]
  },
  {
   "cell_type": "code",
   "execution_count": null,
   "id": "9b94a6b0",
   "metadata": {},
   "outputs": [],
   "source": [
    "lon"
   ]
  },
  {
   "cell_type": "code",
   "execution_count": null,
   "id": "7abae68f",
   "metadata": {},
   "outputs": [],
   "source": [
    "county"
   ]
  },
  {
   "cell_type": "code",
   "execution_count": 9,
   "id": "ba24057a",
   "metadata": {},
   "outputs": [
    {
     "ename": "NameError",
     "evalue": "name 'returned_cities' is not defined",
     "output_type": "error",
     "traceback": [
      "\u001b[1;31m---------------------------------------------------------------------------\u001b[0m",
      "\u001b[1;31mNameError\u001b[0m                                 Traceback (most recent call last)",
      "\u001b[1;32m<ipython-input-9-96a9f7084063>\u001b[0m in \u001b[0;36m<module>\u001b[1;34m\u001b[0m\n\u001b[1;32m----> 1\u001b[1;33m \u001b[0mreturned_cities\u001b[0m\u001b[1;33m\u001b[0m\u001b[1;33m\u001b[0m\u001b[0m\n\u001b[0m",
      "\u001b[1;31mNameError\u001b[0m: name 'returned_cities' is not defined"
     ]
    }
   ],
   "source": [
    "returned_cities"
   ]
  },
  {
   "cell_type": "code",
   "execution_count": null,
   "id": "ab5f901a",
   "metadata": {},
   "outputs": [],
   "source": []
  }
 ],
 "metadata": {
  "kernelspec": {
   "display_name": "PythonData",
   "language": "python",
   "name": "pythondata"
  },
  "language_info": {
   "codemirror_mode": {
    "name": "ipython",
    "version": 3
   },
   "file_extension": ".py",
   "mimetype": "text/x-python",
   "name": "python",
   "nbconvert_exporter": "python",
   "pygments_lexer": "ipython3",
   "version": "3.8.8"
  }
 },
 "nbformat": 4,
 "nbformat_minor": 5
}
