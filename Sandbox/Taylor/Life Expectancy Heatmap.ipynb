{
 "cells": [
  {
   "cell_type": "markdown",
   "id": "ed8c5a5e",
   "metadata": {},
   "source": [
    "Import Dependancies"
   ]
  },
  {
   "cell_type": "code",
   "execution_count": 16,
   "id": "9ca5fdab",
   "metadata": {},
   "outputs": [
    {
     "data": {
      "text/html": [
       "<div>\n",
       "<style scoped>\n",
       "    .dataframe tbody tr th:only-of-type {\n",
       "        vertical-align: middle;\n",
       "    }\n",
       "\n",
       "    .dataframe tbody tr th {\n",
       "        vertical-align: top;\n",
       "    }\n",
       "\n",
       "    .dataframe thead th {\n",
       "        text-align: right;\n",
       "    }\n",
       "</style>\n",
       "<table border=\"1\" class=\"dataframe\">\n",
       "  <thead>\n",
       "    <tr style=\"text-align: right;\">\n",
       "      <th></th>\n",
       "      <th>Unnamed: 0</th>\n",
       "      <th>State</th>\n",
       "      <th>County</th>\n",
       "      <th>Male life expectancy, 1985 (years)</th>\n",
       "      <th>Female life expectancy, 1985 (years)</th>\n",
       "      <th>Male life expectancy, 1990 (years)</th>\n",
       "      <th>Female life expectancy, 1990 (years)</th>\n",
       "      <th>Male life expectancy, 1995 (years)</th>\n",
       "      <th>Female life expectancy, 1995 (years)</th>\n",
       "      <th>Male life expectancy, 2000 (years)</th>\n",
       "      <th>Female life expectancy, 2000 (years)</th>\n",
       "      <th>Male life expectancy, 2005 (years)</th>\n",
       "      <th>Female life expectancy, 2005 (years)</th>\n",
       "      <th>Male life expectancy, 2010 (years)</th>\n",
       "      <th>Female life expectancy, 2010 (years)</th>\n",
       "      <th>Difference in male life expectancy, 1985-2010 (years)</th>\n",
       "      <th>Difference in female life expectancy, 1985-2010 (years)</th>\n",
       "    </tr>\n",
       "  </thead>\n",
       "  <tbody>\n",
       "    <tr>\n",
       "      <th>617</th>\n",
       "      <td>619</td>\n",
       "      <td>Illinois</td>\n",
       "      <td>Christian</td>\n",
       "      <td>71.3</td>\n",
       "      <td>78.6</td>\n",
       "      <td>72.3</td>\n",
       "      <td>78.9</td>\n",
       "      <td>72.9</td>\n",
       "      <td>79.0</td>\n",
       "      <td>73.8</td>\n",
       "      <td>78.8</td>\n",
       "      <td>73.7</td>\n",
       "      <td>79.6</td>\n",
       "      <td>75.3</td>\n",
       "      <td>79.8</td>\n",
       "      <td>4.0</td>\n",
       "      <td>1.1</td>\n",
       "    </tr>\n",
       "    <tr>\n",
       "      <th>1032</th>\n",
       "      <td>1034</td>\n",
       "      <td>Kentucky</td>\n",
       "      <td>Christian</td>\n",
       "      <td>69.6</td>\n",
       "      <td>77.3</td>\n",
       "      <td>70.8</td>\n",
       "      <td>77.3</td>\n",
       "      <td>71.1</td>\n",
       "      <td>77.7</td>\n",
       "      <td>71.1</td>\n",
       "      <td>77.0</td>\n",
       "      <td>71.5</td>\n",
       "      <td>77.0</td>\n",
       "      <td>72.2</td>\n",
       "      <td>77.7</td>\n",
       "      <td>2.6</td>\n",
       "      <td>0.5</td>\n",
       "    </tr>\n",
       "    <tr>\n",
       "      <th>1528</th>\n",
       "      <td>1530</td>\n",
       "      <td>Missouri</td>\n",
       "      <td>Christian</td>\n",
       "      <td>72.1</td>\n",
       "      <td>79.1</td>\n",
       "      <td>72.9</td>\n",
       "      <td>80.0</td>\n",
       "      <td>74.5</td>\n",
       "      <td>80.2</td>\n",
       "      <td>74.2</td>\n",
       "      <td>79.7</td>\n",
       "      <td>75.0</td>\n",
       "      <td>79.9</td>\n",
       "      <td>77.4</td>\n",
       "      <td>80.8</td>\n",
       "      <td>5.3</td>\n",
       "      <td>1.7</td>\n",
       "    </tr>\n",
       "  </tbody>\n",
       "</table>\n",
       "</div>"
      ],
      "text/plain": [
       "      Unnamed: 0     State     County  Male life expectancy, 1985 (years)  \\\n",
       "617          619  Illinois  Christian                                71.3   \n",
       "1032        1034  Kentucky  Christian                                69.6   \n",
       "1528        1530  Missouri  Christian                                72.1   \n",
       "\n",
       "      Female life expectancy, 1985 (years)  \\\n",
       "617                                   78.6   \n",
       "1032                                  77.3   \n",
       "1528                                  79.1   \n",
       "\n",
       "      Male life expectancy, 1990 (years)  \\\n",
       "617                                 72.3   \n",
       "1032                                70.8   \n",
       "1528                                72.9   \n",
       "\n",
       "      Female life expectancy, 1990 (years)  \\\n",
       "617                                   78.9   \n",
       "1032                                  77.3   \n",
       "1528                                  80.0   \n",
       "\n",
       "      Male life expectancy, 1995 (years)  \\\n",
       "617                                 72.9   \n",
       "1032                                71.1   \n",
       "1528                                74.5   \n",
       "\n",
       "      Female life expectancy, 1995 (years)  \\\n",
       "617                                   79.0   \n",
       "1032                                  77.7   \n",
       "1528                                  80.2   \n",
       "\n",
       "      Male life expectancy, 2000 (years)  \\\n",
       "617                                 73.8   \n",
       "1032                                71.1   \n",
       "1528                                74.2   \n",
       "\n",
       "      Female life expectancy, 2000 (years)  \\\n",
       "617                                   78.8   \n",
       "1032                                  77.0   \n",
       "1528                                  79.7   \n",
       "\n",
       "      Male life expectancy, 2005 (years)  \\\n",
       "617                                 73.7   \n",
       "1032                                71.5   \n",
       "1528                                75.0   \n",
       "\n",
       "      Female life expectancy, 2005 (years)  \\\n",
       "617                                   79.6   \n",
       "1032                                  77.0   \n",
       "1528                                  79.9   \n",
       "\n",
       "      Male life expectancy, 2010 (years)  \\\n",
       "617                                 75.3   \n",
       "1032                                72.2   \n",
       "1528                                77.4   \n",
       "\n",
       "      Female life expectancy, 2010 (years)  \\\n",
       "617                                   79.8   \n",
       "1032                                  77.7   \n",
       "1528                                  80.8   \n",
       "\n",
       "      Difference in male life expectancy, 1985-2010 (years)  \\\n",
       "617                                                 4.0       \n",
       "1032                                                2.6       \n",
       "1528                                                5.3       \n",
       "\n",
       "      Difference in female life expectancy, 1985-2010 (years)  \n",
       "617                                                 1.1        \n",
       "1032                                                0.5        \n",
       "1528                                                1.7        "
      ]
     },
     "execution_count": 16,
     "metadata": {},
     "output_type": "execute_result"
    }
   ],
   "source": [
    "# Dependencies\n",
    "from config import (gkey)\n",
    "import gmaps\n",
    "import numpy as np\n",
    "import pandas as pd\n",
    "import requests\n",
    "import time\n",
    "from scipy.stats import linregress\n",
    "from matplotlib import pyplot as plt\n",
    "\n",
    "# Incorporated citipy to determine city based on latitude and longitude\n",
    "from citipy import citipy\n",
    "\n",
    "#import cleaned county data\n",
    "county_data = pd.read_csv(\"../Matthew/Data_csv/state_county.csv\")\n",
    "county_data.loc[(county_data['County'] == 'Christian'),:]"
   ]
  },
  {
   "cell_type": "code",
   "execution_count": 2,
   "id": "86df4a9a",
   "metadata": {},
   "outputs": [],
   "source": [
    "# Configure gmaps with API key\n",
    "gmaps.configure(api_key=gkey)"
   ]
  },
  {
   "cell_type": "markdown",
   "id": "ac11a474",
   "metadata": {},
   "source": [
    "# Generate Random Cities in the USA"
   ]
  },
  {
   "cell_type": "code",
   "execution_count": 3,
   "id": "ce0ea613",
   "metadata": {},
   "outputs": [],
   "source": [
    "# Range of latitudes and longitudes\n",
    "lat_range = (25, 50)\n",
    "lng_range = (-125,-65)\n",
    "\n",
    "# List for holding lat_lngs and cities\n",
    "lat_lngs = []\n",
    "random_cities = []\n",
    "\n",
    "# Create a set of random lat and lng combinations\n",
    "lats = np.random.uniform(lat_range[0], lat_range[1], size=1500)\n",
    "lngs = np.random.uniform(lng_range[0], lng_range[1], size=1500)\n",
    "lat_lngs = zip(lats, lngs)\n",
    "\n",
    "# Identify nearest city for each lat, lng combination\n",
    "for lat_lng in lat_lngs:\n",
    "    city = citipy.nearest_city(lat_lng[0], lat_lng[1]).city_name\n",
    "    \n",
    "    # If the city is unique, then add it to a our cities list\n",
    "    if city not in random_cities:\n",
    "        random_cities.append(city)\n",
    "\n",
    "# Print the city count to confirm sufficient count\n",
    "#random_cities"
   ]
  },
  {
   "cell_type": "markdown",
   "id": "e96e0da7",
   "metadata": {},
   "source": [
    "# Gather Geo and County Data"
   ]
  },
  {
   "cell_type": "code",
   "execution_count": 4,
   "id": "f216a113",
   "metadata": {},
   "outputs": [
    {
     "data": {
      "text/plain": [
       "'Texas'"
      ]
     },
     "execution_count": 4,
     "metadata": {},
     "output_type": "execute_result"
    }
   ],
   "source": [
    "#test space for json\n",
    "\n",
    "# Build the endpoint URL\n",
    "test_url = f\"https://maps.googleapis.com/maps/api/geocode/json?address=houston&key={gkey}\"\n",
    "\n",
    "test_data = requests.get(test_url).json()\n",
    "test_data['results'][0]['address_components'][2]['long_name']"
   ]
  },
  {
   "cell_type": "code",
   "execution_count": 22,
   "id": "5754a384",
   "metadata": {},
   "outputs": [],
   "source": [
    "# Run a request to endpoint and convert result to json\n",
    "#geo_data = requests.get(target_url).json()\n",
    "\n",
    "cities = []\n",
    "state = []\n",
    "county = []\n",
    "lat = []\n",
    "lon = []\n",
    "\n",
    "# Print the json\n",
    "#grab county from the json\n",
    "for city in random_cities[:1]:\n",
    "    # create query url and get json\n",
    "    query_url = f\"https://maps.googleapis.com/maps/api/geocode/json?address={city}&key={gkey}\"\n",
    "    geo_data = requests.get(query_url).json()\n",
    "    #verify = geo_data['results'][0]['address_components'][3]['short_name']\n",
    "    \n",
    "    #if the city has data then populate lists\n",
    "    if (geo_data['status'] == 'OK'):\n",
    "    \n",
    "        try:\n",
    "            geo_data['results'][0]['address_components'][3]['short_name'] == 'US'\n",
    "            state.append(geo_data['results'][0]['address_components'][2]['long_name'])\n",
    "            county.append(geo_data['results'][0]['address_components'][1]['long_name'].replace('County',''))\n",
    "            lat.append(geo_data[\"results\"][0][\"geometry\"][\"location\"][\"lat\"])\n",
    "            lon.append(geo_data[\"results\"][0][\"geometry\"][\"location\"][\"lng\"])\n",
    "            cities.append(city)\n",
    "            \n",
    "        except IndexError:\n",
    "            print(city)\n",
    "            pass\n",
    "    else:\n",
    "        next"
   ]
  },
  {
   "cell_type": "code",
   "execution_count": 23,
   "id": "baba2958",
   "metadata": {},
   "outputs": [
    {
     "data": {
      "text/plain": [
       "1"
      ]
     },
     "execution_count": 23,
     "metadata": {},
     "output_type": "execute_result"
    }
   ],
   "source": [
    "len(cities)"
   ]
  },
  {
   "cell_type": "code",
   "execution_count": 24,
   "id": "9b94a6b0",
   "metadata": {},
   "outputs": [
    {
     "data": {
      "text/plain": [
       "1"
      ]
     },
     "execution_count": 24,
     "metadata": {},
     "output_type": "execute_result"
    }
   ],
   "source": [
    "len(lon)"
   ]
  },
  {
   "cell_type": "code",
   "execution_count": 25,
   "id": "7abae68f",
   "metadata": {},
   "outputs": [
    {
     "data": {
      "text/plain": [
       "1"
      ]
     },
     "execution_count": 25,
     "metadata": {},
     "output_type": "execute_result"
    }
   ],
   "source": [
    "len(county)"
   ]
  },
  {
   "cell_type": "code",
   "execution_count": 26,
   "id": "ba24057a",
   "metadata": {},
   "outputs": [
    {
     "data": {
      "text/plain": [
       "1"
      ]
     },
     "execution_count": 26,
     "metadata": {},
     "output_type": "execute_result"
    }
   ],
   "source": [
    "len(cities)"
   ]
  },
  {
   "cell_type": "code",
   "execution_count": 38,
   "id": "ab5f901a",
   "metadata": {},
   "outputs": [
    {
     "data": {
      "text/html": [
       "<div>\n",
       "<style scoped>\n",
       "    .dataframe tbody tr th:only-of-type {\n",
       "        vertical-align: middle;\n",
       "    }\n",
       "\n",
       "    .dataframe tbody tr th {\n",
       "        vertical-align: top;\n",
       "    }\n",
       "\n",
       "    .dataframe thead th {\n",
       "        text-align: right;\n",
       "    }\n",
       "</style>\n",
       "<table border=\"1\" class=\"dataframe\">\n",
       "  <thead>\n",
       "    <tr style=\"text-align: right;\">\n",
       "      <th></th>\n",
       "      <th>City</th>\n",
       "      <th>State</th>\n",
       "      <th>County</th>\n",
       "      <th>Latitude</th>\n",
       "      <th>Longitude</th>\n",
       "    </tr>\n",
       "  </thead>\n",
       "  <tbody>\n",
       "    <tr>\n",
       "      <th>0</th>\n",
       "      <td>taylorville</td>\n",
       "      <td>Illinois</td>\n",
       "      <td>Christian</td>\n",
       "      <td>39.548935</td>\n",
       "      <td>-89.294533</td>\n",
       "    </tr>\n",
       "  </tbody>\n",
       "</table>\n",
       "</div>"
      ],
      "text/plain": [
       "          City     State      County   Latitude  Longitude\n",
       "0  taylorville  Illinois  Christian   39.548935 -89.294533"
      ]
     },
     "execution_count": 38,
     "metadata": {},
     "output_type": "execute_result"
    }
   ],
   "source": [
    "city_geo_data = pd.DataFrame({\n",
    "    \"City\": cities,\n",
    "    \"State\": state,\n",
    "    \"County\": county,\n",
    "    \"Latitude\": lat,\n",
    "    \"Longitude\": lon\n",
    "})\n",
    "\n",
    "city_geo_data"
   ]
  },
  {
   "cell_type": "code",
   "execution_count": 39,
   "id": "9772984f",
   "metadata": {},
   "outputs": [
    {
     "data": {
      "text/html": [
       "<div>\n",
       "<style scoped>\n",
       "    .dataframe tbody tr th:only-of-type {\n",
       "        vertical-align: middle;\n",
       "    }\n",
       "\n",
       "    .dataframe tbody tr th {\n",
       "        vertical-align: top;\n",
       "    }\n",
       "\n",
       "    .dataframe thead th {\n",
       "        text-align: right;\n",
       "    }\n",
       "</style>\n",
       "<table border=\"1\" class=\"dataframe\">\n",
       "  <thead>\n",
       "    <tr style=\"text-align: right;\">\n",
       "      <th></th>\n",
       "      <th>Unnamed: 0</th>\n",
       "      <th>State</th>\n",
       "      <th>County</th>\n",
       "      <th>Male life expectancy, 1985 (years)</th>\n",
       "      <th>Female life expectancy, 1985 (years)</th>\n",
       "      <th>Male life expectancy, 1990 (years)</th>\n",
       "      <th>Female life expectancy, 1990 (years)</th>\n",
       "      <th>Male life expectancy, 1995 (years)</th>\n",
       "      <th>Female life expectancy, 1995 (years)</th>\n",
       "      <th>Male life expectancy, 2000 (years)</th>\n",
       "      <th>Female life expectancy, 2000 (years)</th>\n",
       "      <th>Male life expectancy, 2005 (years)</th>\n",
       "      <th>Female life expectancy, 2005 (years)</th>\n",
       "      <th>Male life expectancy, 2010 (years)</th>\n",
       "      <th>Female life expectancy, 2010 (years)</th>\n",
       "      <th>Difference in male life expectancy, 1985-2010 (years)</th>\n",
       "      <th>Difference in female life expectancy, 1985-2010 (years)</th>\n",
       "    </tr>\n",
       "  </thead>\n",
       "  <tbody>\n",
       "    <tr>\n",
       "      <th>617</th>\n",
       "      <td>619</td>\n",
       "      <td>Illinois</td>\n",
       "      <td>Christian</td>\n",
       "      <td>71.3</td>\n",
       "      <td>78.6</td>\n",
       "      <td>72.3</td>\n",
       "      <td>78.9</td>\n",
       "      <td>72.9</td>\n",
       "      <td>79.0</td>\n",
       "      <td>73.8</td>\n",
       "      <td>78.8</td>\n",
       "      <td>73.7</td>\n",
       "      <td>79.6</td>\n",
       "      <td>75.3</td>\n",
       "      <td>79.8</td>\n",
       "      <td>4.0</td>\n",
       "      <td>1.1</td>\n",
       "    </tr>\n",
       "    <tr>\n",
       "      <th>1032</th>\n",
       "      <td>1034</td>\n",
       "      <td>Kentucky</td>\n",
       "      <td>Christian</td>\n",
       "      <td>69.6</td>\n",
       "      <td>77.3</td>\n",
       "      <td>70.8</td>\n",
       "      <td>77.3</td>\n",
       "      <td>71.1</td>\n",
       "      <td>77.7</td>\n",
       "      <td>71.1</td>\n",
       "      <td>77.0</td>\n",
       "      <td>71.5</td>\n",
       "      <td>77.0</td>\n",
       "      <td>72.2</td>\n",
       "      <td>77.7</td>\n",
       "      <td>2.6</td>\n",
       "      <td>0.5</td>\n",
       "    </tr>\n",
       "    <tr>\n",
       "      <th>1528</th>\n",
       "      <td>1530</td>\n",
       "      <td>Missouri</td>\n",
       "      <td>Christian</td>\n",
       "      <td>72.1</td>\n",
       "      <td>79.1</td>\n",
       "      <td>72.9</td>\n",
       "      <td>80.0</td>\n",
       "      <td>74.5</td>\n",
       "      <td>80.2</td>\n",
       "      <td>74.2</td>\n",
       "      <td>79.7</td>\n",
       "      <td>75.0</td>\n",
       "      <td>79.9</td>\n",
       "      <td>77.4</td>\n",
       "      <td>80.8</td>\n",
       "      <td>5.3</td>\n",
       "      <td>1.7</td>\n",
       "    </tr>\n",
       "  </tbody>\n",
       "</table>\n",
       "</div>"
      ],
      "text/plain": [
       "      Unnamed: 0     State     County  Male life expectancy, 1985 (years)  \\\n",
       "617          619  Illinois  Christian                                71.3   \n",
       "1032        1034  Kentucky  Christian                                69.6   \n",
       "1528        1530  Missouri  Christian                                72.1   \n",
       "\n",
       "      Female life expectancy, 1985 (years)  \\\n",
       "617                                   78.6   \n",
       "1032                                  77.3   \n",
       "1528                                  79.1   \n",
       "\n",
       "      Male life expectancy, 1990 (years)  \\\n",
       "617                                 72.3   \n",
       "1032                                70.8   \n",
       "1528                                72.9   \n",
       "\n",
       "      Female life expectancy, 1990 (years)  \\\n",
       "617                                   78.9   \n",
       "1032                                  77.3   \n",
       "1528                                  80.0   \n",
       "\n",
       "      Male life expectancy, 1995 (years)  \\\n",
       "617                                 72.9   \n",
       "1032                                71.1   \n",
       "1528                                74.5   \n",
       "\n",
       "      Female life expectancy, 1995 (years)  \\\n",
       "617                                   79.0   \n",
       "1032                                  77.7   \n",
       "1528                                  80.2   \n",
       "\n",
       "      Male life expectancy, 2000 (years)  \\\n",
       "617                                 73.8   \n",
       "1032                                71.1   \n",
       "1528                                74.2   \n",
       "\n",
       "      Female life expectancy, 2000 (years)  \\\n",
       "617                                   78.8   \n",
       "1032                                  77.0   \n",
       "1528                                  79.7   \n",
       "\n",
       "      Male life expectancy, 2005 (years)  \\\n",
       "617                                 73.7   \n",
       "1032                                71.5   \n",
       "1528                                75.0   \n",
       "\n",
       "      Female life expectancy, 2005 (years)  \\\n",
       "617                                   79.6   \n",
       "1032                                  77.0   \n",
       "1528                                  79.9   \n",
       "\n",
       "      Male life expectancy, 2010 (years)  \\\n",
       "617                                 75.3   \n",
       "1032                                72.2   \n",
       "1528                                77.4   \n",
       "\n",
       "      Female life expectancy, 2010 (years)  \\\n",
       "617                                   79.8   \n",
       "1032                                  77.7   \n",
       "1528                                  80.8   \n",
       "\n",
       "      Difference in male life expectancy, 1985-2010 (years)  \\\n",
       "617                                                 4.0       \n",
       "1032                                                2.6       \n",
       "1528                                                5.3       \n",
       "\n",
       "      Difference in female life expectancy, 1985-2010 (years)  \n",
       "617                                                 1.1        \n",
       "1032                                                0.5        \n",
       "1528                                                1.7        "
      ]
     },
     "execution_count": 39,
     "metadata": {},
     "output_type": "execute_result"
    }
   ],
   "source": [
    "county_data.loc[(county_data['County'] == 'Christian'),:]"
   ]
  },
  {
   "cell_type": "markdown",
   "id": "39ee4a5d",
   "metadata": {},
   "source": [
    "# Merge Data"
   ]
  },
  {
   "cell_type": "code",
   "execution_count": 51,
   "id": "4b4a2bfa",
   "metadata": {},
   "outputs": [
    {
     "ename": "IndexingError",
     "evalue": "Unalignable boolean Series provided as indexer (index of the boolean Series and of the indexed object do not match).",
     "output_type": "error",
     "traceback": [
      "\u001b[1;31m---------------------------------------------------------------------------\u001b[0m",
      "\u001b[1;31mIndexingError\u001b[0m                             Traceback (most recent call last)",
      "\u001b[1;32m<ipython-input-51-2d873aa53a94>\u001b[0m in \u001b[0;36m<module>\u001b[1;34m\u001b[0m\n\u001b[0;32m      1\u001b[0m \u001b[0mheatmap_data\u001b[0m \u001b[1;33m=\u001b[0m \u001b[0mpd\u001b[0m\u001b[1;33m.\u001b[0m\u001b[0mmerge\u001b[0m\u001b[1;33m(\u001b[0m\u001b[0mcity_geo_data\u001b[0m\u001b[1;33m,\u001b[0m \u001b[0mcounty_data\u001b[0m\u001b[1;33m,\u001b[0m \u001b[0mon\u001b[0m\u001b[1;33m=\u001b[0m\u001b[1;33m[\u001b[0m\u001b[1;34m'State'\u001b[0m\u001b[1;33m,\u001b[0m\u001b[1;34m'County'\u001b[0m\u001b[1;33m]\u001b[0m\u001b[1;33m,\u001b[0m \u001b[0mhow\u001b[0m \u001b[1;33m=\u001b[0m \u001b[1;34m'outer'\u001b[0m\u001b[1;33m)\u001b[0m\u001b[1;33m\u001b[0m\u001b[1;33m\u001b[0m\u001b[0m\n\u001b[1;32m----> 2\u001b[1;33m \u001b[0mheatmap_data\u001b[0m\u001b[1;33m.\u001b[0m\u001b[0mloc\u001b[0m\u001b[1;33m[\u001b[0m\u001b[1;33m(\u001b[0m\u001b[0mcounty_data\u001b[0m\u001b[1;33m[\u001b[0m\u001b[1;34m'County'\u001b[0m\u001b[1;33m]\u001b[0m \u001b[1;33m==\u001b[0m \u001b[1;34m'Christian'\u001b[0m\u001b[1;33m)\u001b[0m\u001b[1;33m,\u001b[0m\u001b[1;33m:\u001b[0m\u001b[1;33m]\u001b[0m\u001b[1;33m\u001b[0m\u001b[1;33m\u001b[0m\u001b[0m\n\u001b[0m",
      "\u001b[1;32m~\\Anaconda3\\lib\\site-packages\\pandas\\core\\indexing.py\u001b[0m in \u001b[0;36m__getitem__\u001b[1;34m(self, key)\u001b[0m\n\u001b[0;32m    887\u001b[0m                     \u001b[1;31m# AttributeError for IntervalTree get_value\u001b[0m\u001b[1;33m\u001b[0m\u001b[1;33m\u001b[0m\u001b[1;33m\u001b[0m\u001b[0m\n\u001b[0;32m    888\u001b[0m                     \u001b[1;32mreturn\u001b[0m \u001b[0mself\u001b[0m\u001b[1;33m.\u001b[0m\u001b[0mobj\u001b[0m\u001b[1;33m.\u001b[0m\u001b[0m_get_value\u001b[0m\u001b[1;33m(\u001b[0m\u001b[1;33m*\u001b[0m\u001b[0mkey\u001b[0m\u001b[1;33m,\u001b[0m \u001b[0mtakeable\u001b[0m\u001b[1;33m=\u001b[0m\u001b[0mself\u001b[0m\u001b[1;33m.\u001b[0m\u001b[0m_takeable\u001b[0m\u001b[1;33m)\u001b[0m\u001b[1;33m\u001b[0m\u001b[1;33m\u001b[0m\u001b[0m\n\u001b[1;32m--> 889\u001b[1;33m             \u001b[1;32mreturn\u001b[0m \u001b[0mself\u001b[0m\u001b[1;33m.\u001b[0m\u001b[0m_getitem_tuple\u001b[0m\u001b[1;33m(\u001b[0m\u001b[0mkey\u001b[0m\u001b[1;33m)\u001b[0m\u001b[1;33m\u001b[0m\u001b[1;33m\u001b[0m\u001b[0m\n\u001b[0m\u001b[0;32m    890\u001b[0m         \u001b[1;32melse\u001b[0m\u001b[1;33m:\u001b[0m\u001b[1;33m\u001b[0m\u001b[1;33m\u001b[0m\u001b[0m\n\u001b[0;32m    891\u001b[0m             \u001b[1;31m# we by definition only have the 0th axis\u001b[0m\u001b[1;33m\u001b[0m\u001b[1;33m\u001b[0m\u001b[1;33m\u001b[0m\u001b[0m\n",
      "\u001b[1;32m~\\Anaconda3\\lib\\site-packages\\pandas\\core\\indexing.py\u001b[0m in \u001b[0;36m_getitem_tuple\u001b[1;34m(self, tup)\u001b[0m\n\u001b[0;32m   1067\u001b[0m             \u001b[1;32mreturn\u001b[0m \u001b[0mself\u001b[0m\u001b[1;33m.\u001b[0m\u001b[0m_multi_take\u001b[0m\u001b[1;33m(\u001b[0m\u001b[0mtup\u001b[0m\u001b[1;33m)\u001b[0m\u001b[1;33m\u001b[0m\u001b[1;33m\u001b[0m\u001b[0m\n\u001b[0;32m   1068\u001b[0m \u001b[1;33m\u001b[0m\u001b[0m\n\u001b[1;32m-> 1069\u001b[1;33m         \u001b[1;32mreturn\u001b[0m \u001b[0mself\u001b[0m\u001b[1;33m.\u001b[0m\u001b[0m_getitem_tuple_same_dim\u001b[0m\u001b[1;33m(\u001b[0m\u001b[0mtup\u001b[0m\u001b[1;33m)\u001b[0m\u001b[1;33m\u001b[0m\u001b[1;33m\u001b[0m\u001b[0m\n\u001b[0m\u001b[0;32m   1070\u001b[0m \u001b[1;33m\u001b[0m\u001b[0m\n\u001b[0;32m   1071\u001b[0m     \u001b[1;32mdef\u001b[0m \u001b[0m_get_label\u001b[0m\u001b[1;33m(\u001b[0m\u001b[0mself\u001b[0m\u001b[1;33m,\u001b[0m \u001b[0mlabel\u001b[0m\u001b[1;33m,\u001b[0m \u001b[0maxis\u001b[0m\u001b[1;33m:\u001b[0m \u001b[0mint\u001b[0m\u001b[1;33m)\u001b[0m\u001b[1;33m:\u001b[0m\u001b[1;33m\u001b[0m\u001b[1;33m\u001b[0m\u001b[0m\n",
      "\u001b[1;32m~\\Anaconda3\\lib\\site-packages\\pandas\\core\\indexing.py\u001b[0m in \u001b[0;36m_getitem_tuple_same_dim\u001b[1;34m(self, tup)\u001b[0m\n\u001b[0;32m    773\u001b[0m                 \u001b[1;32mcontinue\u001b[0m\u001b[1;33m\u001b[0m\u001b[1;33m\u001b[0m\u001b[0m\n\u001b[0;32m    774\u001b[0m \u001b[1;33m\u001b[0m\u001b[0m\n\u001b[1;32m--> 775\u001b[1;33m             \u001b[0mretval\u001b[0m \u001b[1;33m=\u001b[0m \u001b[0mgetattr\u001b[0m\u001b[1;33m(\u001b[0m\u001b[0mretval\u001b[0m\u001b[1;33m,\u001b[0m \u001b[0mself\u001b[0m\u001b[1;33m.\u001b[0m\u001b[0mname\u001b[0m\u001b[1;33m)\u001b[0m\u001b[1;33m.\u001b[0m\u001b[0m_getitem_axis\u001b[0m\u001b[1;33m(\u001b[0m\u001b[0mkey\u001b[0m\u001b[1;33m,\u001b[0m \u001b[0maxis\u001b[0m\u001b[1;33m=\u001b[0m\u001b[0mi\u001b[0m\u001b[1;33m)\u001b[0m\u001b[1;33m\u001b[0m\u001b[1;33m\u001b[0m\u001b[0m\n\u001b[0m\u001b[0;32m    776\u001b[0m             \u001b[1;31m# We should never have retval.ndim < self.ndim, as that should\u001b[0m\u001b[1;33m\u001b[0m\u001b[1;33m\u001b[0m\u001b[1;33m\u001b[0m\u001b[0m\n\u001b[0;32m    777\u001b[0m             \u001b[1;31m#  be handled by the _getitem_lowerdim call above.\u001b[0m\u001b[1;33m\u001b[0m\u001b[1;33m\u001b[0m\u001b[1;33m\u001b[0m\u001b[0m\n",
      "\u001b[1;32m~\\Anaconda3\\lib\\site-packages\\pandas\\core\\indexing.py\u001b[0m in \u001b[0;36m_getitem_axis\u001b[1;34m(self, key, axis)\u001b[0m\n\u001b[0;32m   1102\u001b[0m             \u001b[1;32mreturn\u001b[0m \u001b[0mself\u001b[0m\u001b[1;33m.\u001b[0m\u001b[0m_get_slice_axis\u001b[0m\u001b[1;33m(\u001b[0m\u001b[0mkey\u001b[0m\u001b[1;33m,\u001b[0m \u001b[0maxis\u001b[0m\u001b[1;33m=\u001b[0m\u001b[0maxis\u001b[0m\u001b[1;33m)\u001b[0m\u001b[1;33m\u001b[0m\u001b[1;33m\u001b[0m\u001b[0m\n\u001b[0;32m   1103\u001b[0m         \u001b[1;32melif\u001b[0m \u001b[0mcom\u001b[0m\u001b[1;33m.\u001b[0m\u001b[0mis_bool_indexer\u001b[0m\u001b[1;33m(\u001b[0m\u001b[0mkey\u001b[0m\u001b[1;33m)\u001b[0m\u001b[1;33m:\u001b[0m\u001b[1;33m\u001b[0m\u001b[1;33m\u001b[0m\u001b[0m\n\u001b[1;32m-> 1104\u001b[1;33m             \u001b[1;32mreturn\u001b[0m \u001b[0mself\u001b[0m\u001b[1;33m.\u001b[0m\u001b[0m_getbool_axis\u001b[0m\u001b[1;33m(\u001b[0m\u001b[0mkey\u001b[0m\u001b[1;33m,\u001b[0m \u001b[0maxis\u001b[0m\u001b[1;33m=\u001b[0m\u001b[0maxis\u001b[0m\u001b[1;33m)\u001b[0m\u001b[1;33m\u001b[0m\u001b[1;33m\u001b[0m\u001b[0m\n\u001b[0m\u001b[0;32m   1105\u001b[0m         \u001b[1;32melif\u001b[0m \u001b[0mis_list_like_indexer\u001b[0m\u001b[1;33m(\u001b[0m\u001b[0mkey\u001b[0m\u001b[1;33m)\u001b[0m\u001b[1;33m:\u001b[0m\u001b[1;33m\u001b[0m\u001b[1;33m\u001b[0m\u001b[0m\n\u001b[0;32m   1106\u001b[0m \u001b[1;33m\u001b[0m\u001b[0m\n",
      "\u001b[1;32m~\\Anaconda3\\lib\\site-packages\\pandas\\core\\indexing.py\u001b[0m in \u001b[0;36m_getbool_axis\u001b[1;34m(self, key, axis)\u001b[0m\n\u001b[0;32m    910\u001b[0m         \u001b[1;31m# caller is responsible for ensuring non-None axis\u001b[0m\u001b[1;33m\u001b[0m\u001b[1;33m\u001b[0m\u001b[1;33m\u001b[0m\u001b[0m\n\u001b[0;32m    911\u001b[0m         \u001b[0mlabels\u001b[0m \u001b[1;33m=\u001b[0m \u001b[0mself\u001b[0m\u001b[1;33m.\u001b[0m\u001b[0mobj\u001b[0m\u001b[1;33m.\u001b[0m\u001b[0m_get_axis\u001b[0m\u001b[1;33m(\u001b[0m\u001b[0maxis\u001b[0m\u001b[1;33m)\u001b[0m\u001b[1;33m\u001b[0m\u001b[1;33m\u001b[0m\u001b[0m\n\u001b[1;32m--> 912\u001b[1;33m         \u001b[0mkey\u001b[0m \u001b[1;33m=\u001b[0m \u001b[0mcheck_bool_indexer\u001b[0m\u001b[1;33m(\u001b[0m\u001b[0mlabels\u001b[0m\u001b[1;33m,\u001b[0m \u001b[0mkey\u001b[0m\u001b[1;33m)\u001b[0m\u001b[1;33m\u001b[0m\u001b[1;33m\u001b[0m\u001b[0m\n\u001b[0m\u001b[0;32m    913\u001b[0m         \u001b[0minds\u001b[0m \u001b[1;33m=\u001b[0m \u001b[0mkey\u001b[0m\u001b[1;33m.\u001b[0m\u001b[0mnonzero\u001b[0m\u001b[1;33m(\u001b[0m\u001b[1;33m)\u001b[0m\u001b[1;33m[\u001b[0m\u001b[1;36m0\u001b[0m\u001b[1;33m]\u001b[0m\u001b[1;33m\u001b[0m\u001b[1;33m\u001b[0m\u001b[0m\n\u001b[0;32m    914\u001b[0m         \u001b[1;32mreturn\u001b[0m \u001b[0mself\u001b[0m\u001b[1;33m.\u001b[0m\u001b[0mobj\u001b[0m\u001b[1;33m.\u001b[0m\u001b[0m_take_with_is_copy\u001b[0m\u001b[1;33m(\u001b[0m\u001b[0minds\u001b[0m\u001b[1;33m,\u001b[0m \u001b[0maxis\u001b[0m\u001b[1;33m=\u001b[0m\u001b[0maxis\u001b[0m\u001b[1;33m)\u001b[0m\u001b[1;33m\u001b[0m\u001b[1;33m\u001b[0m\u001b[0m\n",
      "\u001b[1;32m~\\Anaconda3\\lib\\site-packages\\pandas\\core\\indexing.py\u001b[0m in \u001b[0;36mcheck_bool_indexer\u001b[1;34m(index, key)\u001b[0m\n\u001b[0;32m   2267\u001b[0m         \u001b[0mmask\u001b[0m \u001b[1;33m=\u001b[0m \u001b[0misna\u001b[0m\u001b[1;33m(\u001b[0m\u001b[0mresult\u001b[0m\u001b[1;33m.\u001b[0m\u001b[0m_values\u001b[0m\u001b[1;33m)\u001b[0m\u001b[1;33m\u001b[0m\u001b[1;33m\u001b[0m\u001b[0m\n\u001b[0;32m   2268\u001b[0m         \u001b[1;32mif\u001b[0m \u001b[0mmask\u001b[0m\u001b[1;33m.\u001b[0m\u001b[0many\u001b[0m\u001b[1;33m(\u001b[0m\u001b[1;33m)\u001b[0m\u001b[1;33m:\u001b[0m\u001b[1;33m\u001b[0m\u001b[1;33m\u001b[0m\u001b[0m\n\u001b[1;32m-> 2269\u001b[1;33m             raise IndexingError(\n\u001b[0m\u001b[0;32m   2270\u001b[0m                 \u001b[1;34m\"Unalignable boolean Series provided as \"\u001b[0m\u001b[1;33m\u001b[0m\u001b[1;33m\u001b[0m\u001b[0m\n\u001b[0;32m   2271\u001b[0m                 \u001b[1;34m\"indexer (index of the boolean Series and of \"\u001b[0m\u001b[1;33m\u001b[0m\u001b[1;33m\u001b[0m\u001b[0m\n",
      "\u001b[1;31mIndexingError\u001b[0m: Unalignable boolean Series provided as indexer (index of the boolean Series and of the indexed object do not match)."
     ]
    }
   ],
   "source": [
    "heatmap_data = pd.merge(city_geo_data, county_data, on=['State','County'], how = 'outer')\n",
    "heatmap_data.loc[(county_data['County'] == 'Christian'),:]"
   ]
  },
  {
   "cell_type": "code",
   "execution_count": null,
   "id": "992d599d",
   "metadata": {},
   "outputs": [],
   "source": []
  },
  {
   "cell_type": "code",
   "execution_count": null,
   "id": "d15cb50d",
   "metadata": {},
   "outputs": [],
   "source": []
  }
 ],
 "metadata": {
  "kernelspec": {
   "display_name": "PythonData",
   "language": "python",
   "name": "pythondata"
  },
  "language_info": {
   "codemirror_mode": {
    "name": "ipython",
    "version": 3
   },
   "file_extension": ".py",
   "mimetype": "text/x-python",
   "name": "python",
   "nbconvert_exporter": "python",
   "pygments_lexer": "ipython3",
   "version": "3.8.8"
  }
 },
 "nbformat": 4,
 "nbformat_minor": 5
}
