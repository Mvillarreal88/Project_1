{
 "cells": [
  {
   "cell_type": "code",
   "execution_count": 1,
   "id": "678a38f4",
   "metadata": {},
   "outputs": [],
   "source": [
    "#importing \n",
    "import pandas as pd"
   ]
  },
  {
   "cell_type": "code",
   "execution_count": null,
   "id": "920a05bf",
   "metadata": {},
   "outputs": [],
   "source": [
    "data_csv_path = \"../Resources/Life Expectancy.csv.csv\""
   ]
  }
 ],
 "metadata": {
  "kernelspec": {
   "display_name": "Python [conda env:PythonData] *",
   "language": "python",
   "name": "conda-env-PythonData-py"
  },
  "language_info": {
   "codemirror_mode": {
    "name": "ipython",
    "version": 3
   },
   "file_extension": ".py",
   "mimetype": "text/x-python",
   "name": "python",
   "nbconvert_exporter": "python",
   "pygments_lexer": "ipython3",
   "version": "3.6.10"
  }
 },
 "nbformat": 4,
 "nbformat_minor": 5
}
